{
 "cells": [
  {
   "cell_type": "markdown",
   "metadata": {},
   "source": [
    "### Count num of occurance of a value in an array"
   ]
  },
  {
   "cell_type": "code",
   "execution_count": 38,
   "metadata": {},
   "outputs": [
    {
     "data": {
      "text/plain": [
       "1"
      ]
     },
     "execution_count": 38,
     "metadata": {},
     "output_type": "execute_result"
    }
   ],
   "source": [
    "def count(a, key):\n",
    "    \n",
    "    if len(a) == 0:\n",
    "        return 0\n",
    "    \n",
    "    prev = count(a[1:], key)\n",
    "    \n",
    "    if a[0] == key:\n",
    "        return 1 + prev\n",
    "        \n",
    "    return prev\n",
    "\n",
    "\n",
    "count([1,2,3,3,2,1,4], 4)"
   ]
  },
  {
   "cell_type": "markdown",
   "metadata": {},
   "source": [
    "### Invert a string"
   ]
  },
  {
   "cell_type": "code",
   "execution_count": 20,
   "metadata": {},
   "outputs": [
    {
     "name": "stdout",
     "output_type": "stream",
     "text": [
      "[4, 3, 2, 1]\n",
      "[5, 4, 3, 2, 1]\n"
     ]
    }
   ],
   "source": [
    "def invert(a, i, j):\n",
    "        \n",
    "    if i > j:\n",
    "        return\n",
    "    \n",
    "    # Simply swap\n",
    "    a[i], a[j] = a[j], a[i]\n",
    "\n",
    "    invert(a, i+1, j-1)\n",
    "    \n",
    "    return a\n",
    "\n",
    "print(invert([1,2,3,4], 0, 3))\n",
    "print(invert([1,2,3,4,5], 0, 4))"
   ]
  },
  {
   "cell_type": "markdown",
   "metadata": {},
   "source": [
    "### Average of an array"
   ]
  },
  {
   "cell_type": "code",
   "execution_count": 40,
   "metadata": {},
   "outputs": [
    {
     "name": "stdout",
     "output_type": "stream",
     "text": [
      "3.0\n",
      "0\n"
     ]
    }
   ],
   "source": [
    "def average(a, i):\n",
    "    \n",
    "    if i == len(a):\n",
    "        return 0\n",
    "        \n",
    "    prev = average(a, i+1)\n",
    "    \n",
    "    curr_val = prev + a[i]\n",
    "   \n",
    "    # We reached last entry \n",
    "    if i == 0:\n",
    "        return curr_val/len(a)\n",
    "    \n",
    "    return curr_val\n",
    "\n",
    "print(average([1,2,3,4,5], 0))\n",
    "\n",
    "print(average([], 0))        \n",
    "        "
   ]
  },
  {
   "cell_type": "markdown",
   "metadata": {},
   "source": [
    "Closing brackets match opening brackets in the reverse order of their appearance, meaning that they match from the inside out. This is a clue that recursion can be used to solve this problem.\n",
    "\n",
    "Let’s investigate the code snippet above.\n",
    "\n",
    "The two variables startIndex and currentIndex are important to note. startIndex traverses the whole array. In each recursive call, it moves to the next element in the array. It also checks whether or not we have reached the end of the array.\n",
    "\n",
    "The currentIndex examines if each opening bracket has a corresponding closing bracket. If we encounter a closing bracket currentIndex is decreased by 1 and if we encounter an opening bracket it is increased by 1. If the currentIndex does not reach 0 at the end of the traversal, we return False.\n"
   ]
  },
  {
   "cell_type": "markdown",
   "metadata": {},
   "source": [
    "1. Don't match braces to understand by writing in the notebook\n",
    "2. Simply increment currentIndex if we see ( and decrement currentIndex if we see ).\n",
    "3. If currentIndex is not 0 when we traversed the whole array (startIndex == len(a)) then we found mismatch"
   ]
  },
  {
   "cell_type": "code",
   "execution_count": 52,
   "metadata": {},
   "outputs": [
    {
     "name": "stdout",
     "output_type": "stream",
     "text": [
      "0 0\n",
      "1 1\n",
      "2 2\n",
      "3 3\n",
      "4 2\n",
      "5 1\n",
      "6 0\n",
      "True\n",
      "0 0\n",
      "1 1\n",
      "2 2\n",
      "3 3\n",
      "4 2\n",
      "5 3\n",
      "6 2\n",
      "7 1\n",
      "8 0\n",
      "True\n"
     ]
    }
   ],
   "source": [
    "def matchpara(a, startIndex = 0, currentIndex=0):\n",
    "    \n",
    "    print(startIndex, currentIndex)\n",
    "    if startIndex == len(a):\n",
    "        return currentIndex == 0\n",
    "    \n",
    "    # We did not find matching \"(\"\n",
    "    if currentIndex < 0:\n",
    "        return False\n",
    "    \n",
    "   \n",
    "    if a[startIndex] == \"(\":\n",
    "        return matchpara(a, startIndex+1, currentIndex+1)\n",
    "        \n",
    "    # as soon as we hit the ), go back to see\n",
    "    if a[startIndex] == \")\":\n",
    "        return matchpara(a, startIndex+1, currentIndex-1)\n",
    "\n",
    "\n",
    "testVariable = [\"(\", \"(\", \"(\", \")\", \")\", \")\"]\n",
    "print(matchpara(testVariable))\n",
    "testVariable = [\"(\", \"(\", \"(\", \")\", \"(\", \")\", \")\", \")\"]\n",
    "print(matchpara(testVariable))"
   ]
  },
  {
   "cell_type": "code",
   "execution_count": null,
   "metadata": {},
   "outputs": [],
   "source": []
  }
 ],
 "metadata": {
  "kernelspec": {
   "display_name": "Python (pygameenv2)",
   "language": "python",
   "name": "pygameenv2"
  },
  "language_info": {
   "codemirror_mode": {
    "name": "ipython",
    "version": 3
   },
   "file_extension": ".py",
   "mimetype": "text/x-python",
   "name": "python",
   "nbconvert_exporter": "python",
   "pygments_lexer": "ipython3",
   "version": "3.6.10"
  }
 },
 "nbformat": 4,
 "nbformat_minor": 4
}
