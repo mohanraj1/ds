{
 "cells": [
  {
   "cell_type": "markdown",
   "metadata": {},
   "source": [
    "## Pattern\n",
    "\n",
    "1. Base condition\n",
    "2. Optional check terminating condition\n",
    "3. Compute parameter(s) for next recursive call\n",
    "4. Prev = Invoke recursive call\n",
    "5. Based on the current value and prev value, compute the return value and return it"
   ]
  },
  {
   "cell_type": "markdown",
   "metadata": {},
   "source": [
    "### Length of a string\n",
    "\n",
    "1. Keep calling until string length is 0 - Base condition\n",
    "2. As stack unwinds, add 1 to prev value and return "
   ]
  },
  {
   "cell_type": "code",
   "execution_count": 27,
   "metadata": {},
   "outputs": [
    {
     "data": {
      "text/plain": [
       "3"
      ]
     },
     "execution_count": 27,
     "metadata": {},
     "output_type": "execute_result"
    }
   ],
   "source": [
    "def recursiveLength(s) : \n",
    "    if len(s) == 0:\n",
    "        return 0\n",
    "    prev = recursiveLength(s[1:])\n",
    "    return 1 + prev\n",
    "\n",
    "recursiveLength(\"abc\")"
   ]
  },
  {
   "cell_type": "markdown",
   "metadata": {},
   "source": [
    "### Sum of digits"
   ]
  },
  {
   "cell_type": "code",
   "execution_count": 5,
   "metadata": {},
   "outputs": [
    {
     "data": {
      "text/plain": [
       "6"
      ]
     },
     "execution_count": 5,
     "metadata": {},
     "output_type": "execute_result"
    }
   ],
   "source": [
    "def sumofdigits(s):\n",
    "    \n",
    "    if s == \"\":\n",
    "        return 0\n",
    "    \n",
    "    a = int(s[0])    \n",
    "    prev = sumofdigits(s[1:])    \n",
    "    return a + prev\n",
    "\n",
    "sumofdigits(\"123\")"
   ]
  },
  {
   "cell_type": "markdown",
   "metadata": {},
   "source": [
    "### Palindrome"
   ]
  },
  {
   "cell_type": "code",
   "execution_count": 21,
   "metadata": {},
   "outputs": [
    {
     "name": "stdout",
     "output_type": "stream",
     "text": [
      "False\n",
      "True\n"
     ]
    }
   ],
   "source": [
    "def palin(s):\n",
    "    \n",
    "    if len(s)//2 == 0:\n",
    "        return True\n",
    "    \n",
    "    # Check for pre-condition to terminate early\n",
    "    if s[0] != s[len(s)-1]:\n",
    "        return False\n",
    "        \n",
    "    # Remove first and last element bcoz we checked already\n",
    "    s = s[1:len(s)-1]\n",
    "    \n",
    "    prev = palin(s)\n",
    "    \n",
    "    return prev\n",
    "    \n",
    "print(palin(\"aab1baab\"))\n",
    "print(palin(\"aab1baa\"))"
   ]
  },
  {
   "cell_type": "markdown",
   "metadata": {},
   "source": [
    "### Replace"
   ]
  },
  {
   "cell_type": "code",
   "execution_count": 26,
   "metadata": {},
   "outputs": [
    {
     "data": {
      "text/plain": [
       "'aaacd'"
      ]
     },
     "execution_count": 26,
     "metadata": {},
     "output_type": "execute_result"
    }
   ],
   "source": [
    "def substring(s, a, b):\n",
    "    \n",
    "    if len(s) == 0:\n",
    "        return \"\"\n",
    "    \n",
    "    if s[:len(b)] == b:\n",
    "        return a + substring(s[len(b):], a, b)\n",
    "    else:\n",
    "        return s[0] + substring(s[1:], a, b)\n",
    "    \n",
    "substring(\"abcd\", 'aa','b')    "
   ]
  },
  {
   "cell_type": "code",
   "execution_count": null,
   "metadata": {},
   "outputs": [],
   "source": []
  }
 ],
 "metadata": {
  "kernelspec": {
   "display_name": "Python (pygameenv2)",
   "language": "python",
   "name": "pygameenv2"
  },
  "language_info": {
   "codemirror_mode": {
    "name": "ipython",
    "version": 3
   },
   "file_extension": ".py",
   "mimetype": "text/x-python",
   "name": "python",
   "nbconvert_exporter": "python",
   "pygments_lexer": "ipython3",
   "version": "3.6.10"
  }
 },
 "nbformat": 4,
 "nbformat_minor": 4
}
