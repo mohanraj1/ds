{
 "cells": [
  {
   "cell_type": "code",
   "execution_count": null,
   "metadata": {},
   "outputs": [],
   "source": []
  },
  {
   "cell_type": "code",
   "execution_count": 9,
   "metadata": {},
   "outputs": [],
   "source": [
    "class Node: \n",
    "    def __init__(self, data): \n",
    "        self.data = data \n",
    "        self.next = None\n"
   ]
  },
  {
   "cell_type": "code",
   "execution_count": 10,
   "metadata": {},
   "outputs": [],
   "source": [
    "class LinkedList: \n",
    "    def __init__(self) :\n",
    "        self.head = None\n",
    "\n",
    "    def append(self, new_data): \n",
    "        new_node = Node(new_data) \n",
    "\n",
    "        if self.head is None : # If head node is null \n",
    "            self.head = new_node \n",
    "            return\n",
    "\n",
    "        last = self.head \n",
    "        while (last.next): \n",
    "            last = last.next\n",
    "        last.next =  new_node # add new node to end of list\n",
    "\n",
    "    def printList(self):\n",
    "        temp = self.head\n",
    "        while(temp):\n",
    "            print(temp.data)\n",
    "            temp = temp.next\n",
    "            \n",
    "    def reverse"
   ]
  },
  {
   "cell_type": "code",
   "execution_count": 38,
   "metadata": {},
   "outputs": [
    {
     "name": "stdout",
     "output_type": "stream",
     "text": [
      "3\n",
      "4\n",
      "7\n",
      "11\n"
     ]
    }
   ],
   "source": [
    "ll = LinkedList() \n",
    "ll.append(3) \n",
    "ll.append(4) \n",
    "ll.append(7) \n",
    "ll.append(11)\n",
    "ll.printList()"
   ]
  },
  {
   "cell_type": "markdown",
   "metadata": {},
   "source": [
    "### Reverse Linked List.\n",
    "\n",
    "1. We need current and its previous node to be available to reverse the pointers\n",
    "2. If current is None, we reached the end of the list and Previous is the new Head\n",
    "3. As stack unwinds. set current.next to previous"
   ]
  },
  {
   "cell_type": "code",
   "execution_count": 39,
   "metadata": {},
   "outputs": [
    {
     "name": "stdout",
     "output_type": "stream",
     "text": [
      "11\n",
      "7\n",
      "4\n",
      "3\n"
     ]
    }
   ],
   "source": [
    "def reverse(previous, current):\n",
    "        \n",
    "    if current == None:        \n",
    "        return previous\n",
    "        \n",
    "    newHead = reverse(current, current.next)\n",
    "    \n",
    "    if current == None:\n",
    "        return newHead\n",
    "    \n",
    "    current.next = previous    \n",
    "    return newHead    \n",
    "\n",
    "\n",
    "ll.head = reverse(None, ll.head)\n",
    "\n",
    "ll.printList()"
   ]
  },
  {
   "cell_type": "markdown",
   "metadata": {},
   "source": [
    "### Stack\n",
    "\n",
    "* Reverse the array"
   ]
  },
  {
   "cell_type": "code",
   "execution_count": 52,
   "metadata": {},
   "outputs": [
    {
     "name": "stdout",
     "output_type": "stream",
     "text": [
      "[1, 2, 3, 4]\n",
      "0 3\n",
      "1 2\n",
      "[4, 3, 2, 1]\n",
      "[4, 3, 2, 1, 5]\n"
     ]
    }
   ],
   "source": [
    "# HELPER FUNCTION FOR CREATING AND MANIPULATING A STACK\n",
    "\n",
    "def createStack() : # Function to create an empty stack\n",
    "    stack = []\n",
    "    return stack \n",
    "\n",
    "def isEmpty(stack) :\n",
    "    return len(stack) == 0\n",
    "\n",
    "def push(stack, item) : # push item to stack\n",
    "    stack.append( item ) \n",
    "\n",
    "def pop(stack) : # pop item from stack\n",
    "    if(isEmpty(stack)) : # display error if stack empty  \n",
    "        print(\"Stack Underflow \")\n",
    "        exit(1)\n",
    "\n",
    "    return stack.pop()\n",
    "\n",
    "def reverse(a, index):\n",
    "    if index == len(a) // 2:\n",
    "        return\n",
    "  \n",
    "    swapIndex = len(a) - index - 1\n",
    "    print(index, swapIndex)\n",
    "    a[index], a[swapIndex] = a[swapIndex], a[index]\n",
    "    \n",
    "    reverse(a, index + 1)\n",
    "    \n",
    "stack = createStack()\n",
    "push(stack, 1)\n",
    "push(stack, 2)\n",
    "push(stack, 3)\n",
    "push(stack, 4)\n",
    "print(stack)\n",
    "\n",
    "reverse(stack, 0)\n",
    "print(stack)\n",
    "push(stack, 5)\n",
    "print(stack)"
   ]
  },
  {
   "cell_type": "code",
   "execution_count": null,
   "metadata": {},
   "outputs": [],
   "source": []
  }
 ],
 "metadata": {
  "kernelspec": {
   "display_name": "Python (pygameenv2)",
   "language": "python",
   "name": "pygameenv2"
  },
  "language_info": {
   "codemirror_mode": {
    "name": "ipython",
    "version": 3
   },
   "file_extension": ".py",
   "mimetype": "text/x-python",
   "name": "python",
   "nbconvert_exporter": "python",
   "pygments_lexer": "ipython3",
   "version": "3.6.10"
  }
 },
 "nbformat": 4,
 "nbformat_minor": 4
}
