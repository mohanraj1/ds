{
 "cells": [
  {
   "cell_type": "code",
   "execution_count": 1,
   "metadata": {},
   "outputs": [],
   "source": [
    "from binarytree import tree\n",
    "from binarytree import build\n",
    "from binarytree import Node"
   ]
  },
  {
   "cell_type": "code",
   "execution_count": 2,
   "metadata": {},
   "outputs": [],
   "source": [
    "values = [3, 5, 2, 1, None, 4, 6, None, None, None, None, 7]"
   ]
  },
  {
   "cell_type": "code",
   "execution_count": 3,
   "metadata": {},
   "outputs": [
    {
     "name": "stdout",
     "output_type": "stream",
     "text": [
      "\n",
      "    3____\n",
      "   /     \\\n",
      "  5       2\n",
      " /       / \\\n",
      "1       4   6\n",
      "       /\n",
      "      7\n",
      "\n"
     ]
    }
   ],
   "source": [
    "root = build(values)\n",
    "print(root)"
   ]
  },
  {
   "cell_type": "markdown",
   "metadata": {},
   "source": [
    "### Create a tree"
   ]
  },
  {
   "cell_type": "code",
   "execution_count": 4,
   "metadata": {},
   "outputs": [
    {
     "name": "stdout",
     "output_type": "stream",
     "text": [
      "\n",
      "    3____\n",
      "   /     \\\n",
      "  5       2\n",
      " /       / \\\n",
      "1       4   6\n",
      "       /\n",
      "      7\n",
      "\n"
     ]
    }
   ],
   "source": [
    "root = Node(3)\n",
    "root.left = Node(5)\n",
    "root.right = Node(2)\n",
    "root.left.left = Node(1)\n",
    "root.right.left = Node(4)\n",
    "root.right.right = Node(6)\n",
    "root.right.left.left = Node(7)\n",
    "print(root)"
   ]
  },
  {
   "cell_type": "code",
   "execution_count": 5,
   "metadata": {},
   "outputs": [
    {
     "data": {
      "text/plain": [
       "[3, 5, 2, 1, None, 4, 6, None, None, None, None, 7]"
      ]
     },
     "execution_count": 5,
     "metadata": {},
     "output_type": "execute_result"
    }
   ],
   "source": [
    "root.values"
   ]
  },
  {
   "cell_type": "markdown",
   "metadata": {},
   "source": [
    "### Count of Nodes\n",
    "\n",
    "Uses Post Order"
   ]
  },
  {
   "cell_type": "code",
   "execution_count": 22,
   "metadata": {},
   "outputs": [
    {
     "name": "stdout",
     "output_type": "stream",
     "text": [
      "1\n",
      "5\n",
      "7\n",
      "4\n",
      "6\n",
      "2\n",
      "3\n",
      "*******************\n",
      "count of nodes: 7\n"
     ]
    }
   ],
   "source": [
    "def count(node):\n",
    "    if (node == None):\n",
    "        return 0\n",
    "    \n",
    "    lc = count(node.left)\n",
    "    \n",
    "    rc = count(node.right)\n",
    "    \n",
    "    print(node.value)\n",
    "    # count from left sub tree + count from right sub tree + current node\n",
    "    node_count = lc + rc + 1\n",
    "    \n",
    "    return node_count\n",
    " \n",
    "num_nodes = count(root)\n",
    "\n",
    "print(\"*******************\")\n",
    "print(\"Count of nodes:\", num_nodes)"
   ]
  },
  {
   "cell_type": "markdown",
   "metadata": {},
   "source": [
    "### Uses Post Order\n",
    "\n",
    "* if node has left node then add 1 to the result returned from the subtree"
   ]
  },
  {
   "cell_type": "code",
   "execution_count": 23,
   "metadata": {},
   "outputs": [
    {
     "name": "stdout",
     "output_type": "stream",
     "text": [
      "Working on:3\n",
      "Going left:3\n",
      "\tWorking on:5\n",
      "\tGoing left:5\n",
      "\t\tWorking on:1\n",
      "\t\tNo left node found:1\n",
      "\t\tGoing right:1\n",
      "\t\t\tHit Base Case Returning 0\n",
      "\t\tDone Right:1:Result:0\n",
      "\tDone Left:5:Result:1\n",
      "\tGoing right:5\n",
      "\t\tHit Base Case Returning 0\n",
      "\tDone Right:5:Result:0\n",
      "Done Left:3:Result:2\n",
      "Going right:3\n",
      "\tWorking on:2\n",
      "\tGoing left:2\n",
      "\t\tWorking on:4\n",
      "\t\tGoing left:4\n",
      "\t\t\tWorking on:7\n",
      "\t\t\tNo left node found:7\n",
      "\t\t\tGoing right:7\n",
      "\t\t\t\tHit Base Case Returning 0\n",
      "\t\t\tDone Right:7:Result:0\n",
      "\t\tDone Left:4:Result:1\n",
      "\t\tGoing right:4\n",
      "\t\t\tHit Base Case Returning 0\n",
      "\t\tDone Right:4:Result:0\n",
      "\tDone Left:2:Result:2\n",
      "\tGoing right:2\n",
      "\t\tWorking on:6\n",
      "\t\tNo left node found:6\n",
      "\t\tGoing right:6\n",
      "\t\t\tHit Base Case Returning 0\n",
      "\t\tDone Right:6:Result:0\n",
      "\tDone Right:2:Result:0\n",
      "Done Right:3:Result:2\n",
      "*******************\n",
      "No of left nodes: 4\n"
     ]
    }
   ],
   "source": [
    "def countLeftNodes(node, tabs):\n",
    "    if (node == None):\n",
    "        print(('\\t' * (tabs)) + \"Hit Base Case Returning 0\")\n",
    "        return 0\n",
    "\n",
    "    print(('\\t' * (tabs)) + \"Working on:{0}\".format(node.value))\n",
    "\n",
    "    lc = 0\n",
    "    if (node.left != None):\n",
    "        print(('\\t' * (tabs)) + \"Going left:{0}\".format(node.value))\n",
    "        \n",
    "        lc = countLeftNodes(node.left, tabs + 1) + 1\n",
    "        \n",
    "        print(('\\t' * (tabs)) + \"Done Left:{0}:Result:{1}\".format(node.value, lc))\n",
    "    else:\n",
    "        print(('\\t' * (tabs)) + \"No left node found:{0}\".format(node.value))\n",
    "     \n",
    "    \n",
    "    print(('\\t' * (tabs)) + \"Going right:{0}\".format(node.value, tabs + 1))\n",
    "    \n",
    "    rc = countLeftNodes(node.right, tabs+ 1)\n",
    "    \n",
    "    print(('\\t' * (tabs)) + \"Done Right:{0}:Result:{1}\".format(node.value, rc))\n",
    "    \n",
    "    return lc + rc\n",
    "\n",
    "num_left_nodes = countLeftNodes(root, 0)\n",
    "print(\"*******************\")\n",
    "print(\"No of left nodes:\", num_left_nodes)\n"
   ]
  },
  {
   "cell_type": "code",
   "execution_count": 82,
   "metadata": {},
   "outputs": [
    {
     "name": "stdout",
     "output_type": "stream",
     "text": [
      "Working on:3\n",
      "Going left:3\n",
      "\tWorking on:5\n",
      "\tGoing left:5\n",
      "\t\tWorking on:1\n",
      "\t\tNo left node found:1\n",
      "\t\tGoing right:1\n",
      "\t\t\tHit Base Case Returning 0\n",
      "\t\tDone Right:1:Result:0\n",
      "\tDone Left:5:Result:1\n",
      "\tGoing right:5\n",
      "\t\tHit Base Case Returning 0\n",
      "\tDone Right:5:Result:0\n",
      "Done Left:3:Result:2\n",
      "Going right:3\n",
      "\tWorking on:2\n",
      "\tGoing left:2\n",
      "\t\tWorking on:4\n",
      "\t\tGoing left:4\n",
      "\t\t\tWorking on:7\n",
      "\t\t\tNo left node found:7\n",
      "\t\t\tGoing right:7\n",
      "\t\t\t\tHit Base Case Returning 0\n",
      "\t\t\tDone Right:7:Result:0\n",
      "\t\tDone Left:4:Result:1\n",
      "\t\tGoing right:4\n",
      "\t\t\tHit Base Case Returning 0\n",
      "\t\tDone Right:4:Result:0\n",
      "\tDone Left:2:Result:2\n",
      "\tGoing right:2\n",
      "\t\tWorking on:6\n",
      "\t\tNo left node found:6\n",
      "\t\tGoing right:6\n",
      "\t\t\tHit Base Case Returning 0\n",
      "\t\tDone Right:6:Result:0\n",
      "\tDone Right:2:Result:0\n",
      "Done Right:3:Result:2\n"
     ]
    },
    {
     "data": {
      "text/plain": [
       "4"
      ]
     },
     "execution_count": 82,
     "metadata": {},
     "output_type": "execute_result"
    }
   ],
   "source": [
    "countLeftNodes(root, 0)"
   ]
  },
  {
   "cell_type": "markdown",
   "metadata": {},
   "source": [
    "### Height of a tree\n",
    "\n",
    "* Look at the left sub tree and right sub tree heights and return max of height + 1 (for the current node)"
   ]
  },
  {
   "cell_type": "code",
   "execution_count": 27,
   "metadata": {},
   "outputs": [
    {
     "name": "stdout",
     "output_type": "stream",
     "text": [
      "**********************\n",
      "Height of the tree: 3\n"
     ]
    }
   ],
   "source": [
    "def height(node):\n",
    "    if node is None:\n",
    "        return -1\n",
    "    \n",
    "    left_tree_height = height(node.left)\n",
    "    \n",
    "    right_tree_height = height(node.right)\n",
    "    \n",
    "    if left_tree_height > right_tree_height:\n",
    "        return left_tree_height + 1\n",
    "    else:\n",
    "        return right_tree_height + 1\n",
    "    \n",
    "height_tree = height(root)\n",
    "print(\"**********************\")\n",
    "print(\"Height of the tree:\", height_tree)"
   ]
  },
  {
   "cell_type": "markdown",
   "metadata": {},
   "source": [
    "### Width - Using Preorder "
   ]
  },
  {
   "cell_type": "code",
   "execution_count": 35,
   "metadata": {},
   "outputs": [
    {
     "name": "stdout",
     "output_type": "stream",
     "text": [
      "******************\n",
      "Width List: [1, 2, 3, 1]\n",
      "Width: 3\n"
     ]
    }
   ],
   "source": [
    "def width(node, countList, level):\n",
    "    \n",
    "    if node is None:\n",
    "        return 0\n",
    "    # Visit\n",
    "    countList[level] += 1  \n",
    "    # Go Left\n",
    "    width(node.left, countList, level+1)    \n",
    "    # Go Right\n",
    "    width(node.right, countList, level+1)\n",
    "    \n",
    "    \n",
    "height_tmp = height(root)\n",
    "countList = x = [0 for i in range(height_tmp + 1)]\n",
    "\n",
    "width(root, countList, 0)\n",
    "\n",
    "print(\"******************\")\n",
    "print(\"Width List:\", countList)\n",
    "print(\"Width:\", max(countList))\n",
    "    "
   ]
  },
  {
   "cell_type": "markdown",
   "metadata": {},
   "source": [
    "### Build binary search tree from sorted array"
   ]
  },
  {
   "cell_type": "code",
   "execution_count": 44,
   "metadata": {},
   "outputs": [
    {
     "name": "stdout",
     "output_type": "stream",
     "text": [
      "[1, 2, 3, 4, 5, 6, 7]\n",
      "\n",
      "    __4__\n",
      "   /     \\\n",
      "  2       6\n",
      " / \\     / \\\n",
      "1   3   5   7\n",
      "\n"
     ]
    }
   ],
   "source": [
    "def binarySearchTreeFromSortedArray(arr, lower, upper):\n",
    "    \n",
    "    if lower > upper:\n",
    "        return None\n",
    "    \n",
    "    \n",
    "    mid = (lower + upper)//2\n",
    "    \n",
    "    left = binarySearchTreeFromSortedArray(arr, lower, mid - 1)    \n",
    "    right = binarySearchTreeFromSortedArray(arr, mid + 1, upper)\n",
    "    \n",
    "    parent = Node(arr[mid])\n",
    "    \n",
    "    parent.left = left\n",
    "    parent.right = right\n",
    "    \n",
    "    return parent\n",
    "    \n",
    "node_values = [i for i in root.values if i is not None]\n",
    "node_values.sort()\n",
    "print(node_values)\n",
    "\n",
    "binary_search_tree_root = binaryTreeFromSortedArray(node_values, 0, len(node_values)-1)\n",
    "\n",
    "print(binary_search_tree_root)"
   ]
  },
  {
   "cell_type": "markdown",
   "metadata": {},
   "source": [
    "### Least Common Ancestor"
   ]
  },
  {
   "cell_type": "code",
   "execution_count": 66,
   "metadata": {},
   "outputs": [
    {
     "name": "stdout",
     "output_type": "stream",
     "text": [
      "4\n",
      "right\n",
      "None\n",
      "right\n",
      "6\n",
      "left\n",
      "2\n"
     ]
    }
   ],
   "source": [
    "def lca(node, n1, n2):\n",
    "    \n",
    "    iterator = node\n",
    "    \n",
    "    while (iterator is not None):\n",
    "        data = iterator.value               \n",
    "        \n",
    "        \n",
    "        if data >= n1 and data <= n2:\n",
    "            return data\n",
    "        \n",
    "        iterator = None\n",
    "        \n",
    "        if data > n1 and data > n2:\n",
    "            print(\"left\")\n",
    "            iterator = node.left\n",
    "            \n",
    "        if data < n1 and data < n2:\n",
    "            print(\"right\")\n",
    "            iterator = node.right\n",
    "        \n",
    "    return None\n",
    "\n",
    "r = lca(binary_search_tree_root, 1, 5)\n",
    "print(r)\n",
    "\n",
    "r = lca(binary_search_tree_root, 10, 5)\n",
    "print(r)\n",
    "\n",
    "r = lca(binary_search_tree_root, 5, 8)\n",
    "print(r)\n",
    "r = lca(binary_search_tree_root, 1, 3)\n",
    "print(r)"
   ]
  },
  {
   "cell_type": "code",
   "execution_count": null,
   "metadata": {},
   "outputs": [],
   "source": []
  }
 ],
 "metadata": {
  "kernelspec": {
   "display_name": "Python (pygameenv2)",
   "language": "python",
   "name": "pygameenv2"
  },
  "language_info": {
   "codemirror_mode": {
    "name": "ipython",
    "version": 3
   },
   "file_extension": ".py",
   "mimetype": "text/x-python",
   "name": "python",
   "nbconvert_exporter": "python",
   "pygments_lexer": "ipython3",
   "version": "3.6.10"
  }
 },
 "nbformat": 4,
 "nbformat_minor": 4
}
