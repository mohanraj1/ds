{
 "cells": [
  {
   "cell_type": "code",
   "execution_count": null,
   "metadata": {},
   "outputs": [],
   "source": []
  },
  {
   "cell_type": "code",
   "execution_count": 18,
   "metadata": {},
   "outputs": [
    {
     "name": "stdout",
     "output_type": "stream",
     "text": [
      "0 7 4 [2, 8, 7, 1, 3, 5, 6, 4]\n",
      "   0\n",
      "   1\n",
      "   2\n",
      "3\n",
      "[2, 1, 3, 4, 7, 5, 6, 8]\n",
      "[2, 1, 3, 4, 7, 5, 6, 8]\n",
      "0 2 3 [2, 1, 3, 4, 7, 5, 6, 8]\n",
      "   0\n",
      "   1\n",
      "2\n",
      "[2, 1, 3, 4, 7, 5, 6, 8]\n",
      "[2, 1, 3, 4, 7, 5, 6, 8]\n",
      "0 1 1 [2, 1, 3, 4, 7, 5, 6, 8]\n",
      "0\n",
      "[1, 2, 3, 4, 7, 5, 6, 8]\n",
      "[1, 2, 3, 4, 7, 5, 6, 8]\n",
      "4 7 8 [1, 2, 3, 4, 7, 5, 6, 8]\n",
      "   4\n",
      "   5\n",
      "   6\n",
      "7\n",
      "[1, 2, 3, 4, 7, 5, 6, 8]\n",
      "[1, 2, 3, 4, 7, 5, 6, 8]\n",
      "4 6 6 [1, 2, 3, 4, 7, 5, 6, 8]\n",
      "   4\n",
      "5\n",
      "[1, 2, 3, 4, 5, 6, 7, 8]\n",
      "[1, 2, 3, 4, 5, 6, 7, 8]\n",
      "[1, 2, 3, 4, 5, 6, 7, 8]\n"
     ]
    }
   ],
   "source": [
    "# Places the pivot at the final location by moving all lower values to its left and higher values to right\n",
    "def partition(a, p, r):\n",
    "    \n",
    "    pivot = a[r]\n",
    "    i = p - 1\n",
    "    print(p, r, pivot, a)\n",
    "    \n",
    "    # In the loop, i points to a value > pivot and j points to value <= pivot and we swap.\n",
    "    # At the end of the loop i points an element that is swapped with pivot. \n",
    "    #   After this, all elements < pivot index has value < pivot \n",
    "    \n",
    "    # j keeps running until r. i keeps moving as long as the value is less than pivot.\n",
    "    for j in range(p, r):\n",
    "        if a[j] <= pivot:\n",
    "            i += 1            \n",
    "            a[j], a[i] = a[i], a[j]\n",
    "    # i points to an index that is the last value that is less than pivot. one index above i has the first higher value than pivot\n",
    "    a[i+1], a[r] = a[r], a[i+1]\n",
    "        \n",
    "    return i + 1\n",
    "\n",
    "def quick_sort(a, p, r):\n",
    "    \n",
    "    if p < r:\n",
    "        q = partition(a, p, r)\n",
    "        print(arr)\n",
    "        quick_sort(a, p, q-1)\n",
    "        quick_sort(a, q+1, r)\n",
    "    \n",
    "arr = [2,8,7,1,3,5,6,4]\n",
    "quick_sort(arr, 0, len(arr)-1)\n",
    "print(arr)\n",
    "    "
   ]
  },
  {
   "cell_type": "code",
   "execution_count": null,
   "metadata": {},
   "outputs": [],
   "source": []
  }
 ],
 "metadata": {
  "kernelspec": {
   "display_name": "Python (pygameenv2)",
   "language": "python",
   "name": "pygameenv2"
  },
  "language_info": {
   "codemirror_mode": {
    "name": "ipython",
    "version": 3
   },
   "file_extension": ".py",
   "mimetype": "text/x-python",
   "name": "python",
   "nbconvert_exporter": "python",
   "pygments_lexer": "ipython3",
   "version": "3.6.10"
  }
 },
 "nbformat": 4,
 "nbformat_minor": 4
}
