{
 "cells": [
  {
   "cell_type": "code",
   "execution_count": 2,
   "metadata": {},
   "outputs": [],
   "source": [
    "from binarytree import tree\n",
    "from binarytree import build\n",
    "from binarytree import Node"
   ]
  },
  {
   "cell_type": "code",
   "execution_count": 3,
   "metadata": {},
   "outputs": [],
   "source": [
    "values = [3, 5, 2, 1, None, 4, 6, None, None, None, None, 7]"
   ]
  },
  {
   "cell_type": "code",
   "execution_count": 4,
   "metadata": {},
   "outputs": [
    {
     "name": "stdout",
     "output_type": "stream",
     "text": [
      "\n",
      "    3____\n",
      "   /     \\\n",
      "  5       2\n",
      " /       / \\\n",
      "1       4   6\n",
      "       /\n",
      "      7\n",
      "\n"
     ]
    }
   ],
   "source": [
    "root = build(values)\n",
    "print(root)"
   ]
  },
  {
   "cell_type": "markdown",
   "metadata": {},
   "source": [
    "### Create a tree"
   ]
  },
  {
   "cell_type": "code",
   "execution_count": 5,
   "metadata": {},
   "outputs": [
    {
     "name": "stdout",
     "output_type": "stream",
     "text": [
      "\n",
      "    3____\n",
      "   /     \\\n",
      "  5       2\n",
      " /       / \\\n",
      "1       4   6\n",
      "       /\n",
      "      7\n",
      "\n"
     ]
    }
   ],
   "source": [
    "root = Node(3)\n",
    "root.left = Node(5)\n",
    "root.right = Node(2)\n",
    "root.left.left = Node(1)\n",
    "root.right.left = Node(4)\n",
    "root.right.right = Node(6)\n",
    "root.right.left.left = Node(7)\n",
    "print(root)"
   ]
  },
  {
   "cell_type": "code",
   "execution_count": 6,
   "metadata": {},
   "outputs": [
    {
     "data": {
      "text/plain": [
       "[3, 5, 2, 1, None, 4, 6, None, None, None, None, 7]"
      ]
     },
     "execution_count": 6,
     "metadata": {},
     "output_type": "execute_result"
    }
   ],
   "source": [
    "root.values"
   ]
  },
  {
   "cell_type": "markdown",
   "metadata": {},
   "source": [
    "### Count of Nodes\n",
    "\n",
    "Uses Post Order"
   ]
  },
  {
   "cell_type": "code",
   "execution_count": 7,
   "metadata": {},
   "outputs": [
    {
     "name": "stdout",
     "output_type": "stream",
     "text": [
      "1\n",
      "5\n",
      "7\n",
      "4\n",
      "6\n",
      "2\n",
      "3\n",
      "*******************\n",
      "Count of nodes: 7\n"
     ]
    }
   ],
   "source": [
    "def count(node):\n",
    "    if (node == None):\n",
    "        return 0\n",
    "    \n",
    "    lc = count(node.left)\n",
    "    \n",
    "    rc = count(node.right)\n",
    "    \n",
    "    print(node.value)\n",
    "    # count from left sub tree + count from right sub tree + current node\n",
    "    node_count = lc + rc + 1\n",
    "    \n",
    "    return node_count\n",
    " \n",
    "num_nodes = count(root)\n",
    "\n",
    "print(\"*******************\")\n",
    "print(\"Count of nodes:\", num_nodes)"
   ]
  },
  {
   "cell_type": "markdown",
   "metadata": {},
   "source": [
    "### Uses Post Order\n",
    "\n",
    "* if node has left node then add 1 to the result returned from the subtree"
   ]
  },
  {
   "cell_type": "code",
   "execution_count": 8,
   "metadata": {},
   "outputs": [
    {
     "name": "stdout",
     "output_type": "stream",
     "text": [
      "Working on:3\n",
      "Going left:3\n",
      "\tWorking on:5\n",
      "\tGoing left:5\n",
      "\t\tWorking on:1\n",
      "\t\tNo left node found:1\n",
      "\t\tGoing right:1\n",
      "\t\t\tHit Base Case Returning 0\n",
      "\t\tDone Right:1:Result:0\n",
      "\tDone Left:5:Result:1\n",
      "\tGoing right:5\n",
      "\t\tHit Base Case Returning 0\n",
      "\tDone Right:5:Result:0\n",
      "Done Left:3:Result:2\n",
      "Going right:3\n",
      "\tWorking on:2\n",
      "\tGoing left:2\n",
      "\t\tWorking on:4\n",
      "\t\tGoing left:4\n",
      "\t\t\tWorking on:7\n",
      "\t\t\tNo left node found:7\n",
      "\t\t\tGoing right:7\n",
      "\t\t\t\tHit Base Case Returning 0\n",
      "\t\t\tDone Right:7:Result:0\n",
      "\t\tDone Left:4:Result:1\n",
      "\t\tGoing right:4\n",
      "\t\t\tHit Base Case Returning 0\n",
      "\t\tDone Right:4:Result:0\n",
      "\tDone Left:2:Result:2\n",
      "\tGoing right:2\n",
      "\t\tWorking on:6\n",
      "\t\tNo left node found:6\n",
      "\t\tGoing right:6\n",
      "\t\t\tHit Base Case Returning 0\n",
      "\t\tDone Right:6:Result:0\n",
      "\tDone Right:2:Result:0\n",
      "Done Right:3:Result:2\n",
      "*******************\n",
      "No of left nodes: 4\n"
     ]
    }
   ],
   "source": [
    "def countLeftNodes(node, tabs):\n",
    "    if (node == None):\n",
    "        print(('\\t' * (tabs)) + \"Hit Base Case Returning 0\")\n",
    "        return 0\n",
    "\n",
    "    print(('\\t' * (tabs)) + \"Working on:{0}\".format(node.value))\n",
    "\n",
    "    lc = 0\n",
    "    if (node.left != None):\n",
    "        print(('\\t' * (tabs)) + \"Going left:{0}\".format(node.value))\n",
    "        \n",
    "        lc = countLeftNodes(node.left, tabs + 1) + 1\n",
    "        \n",
    "        print(('\\t' * (tabs)) + \"Done Left:{0}:Result:{1}\".format(node.value, lc))\n",
    "    else:\n",
    "        print(('\\t' * (tabs)) + \"No left node found:{0}\".format(node.value))\n",
    "     \n",
    "    \n",
    "    print(('\\t' * (tabs)) + \"Going right:{0}\".format(node.value, tabs + 1))\n",
    "    \n",
    "    rc = countLeftNodes(node.right, tabs+ 1)\n",
    "    \n",
    "    print(('\\t' * (tabs)) + \"Done Right:{0}:Result:{1}\".format(node.value, rc))\n",
    "    \n",
    "    return lc + rc\n",
    "\n",
    "num_left_nodes = countLeftNodes(root, 0)\n",
    "print(\"*******************\")\n",
    "print(\"No of left nodes:\", num_left_nodes)\n"
   ]
  },
  {
   "cell_type": "code",
   "execution_count": 9,
   "metadata": {},
   "outputs": [
    {
     "name": "stdout",
     "output_type": "stream",
     "text": [
      "Working on:3\n",
      "Going left:3\n",
      "\tWorking on:5\n",
      "\tGoing left:5\n",
      "\t\tWorking on:1\n",
      "\t\tNo left node found:1\n",
      "\t\tGoing right:1\n",
      "\t\t\tHit Base Case Returning 0\n",
      "\t\tDone Right:1:Result:0\n",
      "\tDone Left:5:Result:1\n",
      "\tGoing right:5\n",
      "\t\tHit Base Case Returning 0\n",
      "\tDone Right:5:Result:0\n",
      "Done Left:3:Result:2\n",
      "Going right:3\n",
      "\tWorking on:2\n",
      "\tGoing left:2\n",
      "\t\tWorking on:4\n",
      "\t\tGoing left:4\n",
      "\t\t\tWorking on:7\n",
      "\t\t\tNo left node found:7\n",
      "\t\t\tGoing right:7\n",
      "\t\t\t\tHit Base Case Returning 0\n",
      "\t\t\tDone Right:7:Result:0\n",
      "\t\tDone Left:4:Result:1\n",
      "\t\tGoing right:4\n",
      "\t\t\tHit Base Case Returning 0\n",
      "\t\tDone Right:4:Result:0\n",
      "\tDone Left:2:Result:2\n",
      "\tGoing right:2\n",
      "\t\tWorking on:6\n",
      "\t\tNo left node found:6\n",
      "\t\tGoing right:6\n",
      "\t\t\tHit Base Case Returning 0\n",
      "\t\tDone Right:6:Result:0\n",
      "\tDone Right:2:Result:0\n",
      "Done Right:3:Result:2\n"
     ]
    },
    {
     "data": {
      "text/plain": [
       "4"
      ]
     },
     "execution_count": 9,
     "metadata": {},
     "output_type": "execute_result"
    }
   ],
   "source": [
    "countLeftNodes(root, 0)"
   ]
  },
  {
   "cell_type": "markdown",
   "metadata": {},
   "source": [
    "### Height of a tree\n",
    "\n",
    "* Look at the left sub tree and right sub tree heights and return max of height + 1 (for the current node)"
   ]
  },
  {
   "cell_type": "code",
   "execution_count": 10,
   "metadata": {},
   "outputs": [
    {
     "name": "stdout",
     "output_type": "stream",
     "text": [
      "**********************\n",
      "Height of the tree: 3\n"
     ]
    }
   ],
   "source": [
    "def height(node):\n",
    "    if node is None:\n",
    "        return -1\n",
    "    \n",
    "    left_tree_height = height(node.left)\n",
    "    \n",
    "    right_tree_height = height(node.right)\n",
    "    \n",
    "    if left_tree_height > right_tree_height:\n",
    "        return left_tree_height + 1\n",
    "    else:\n",
    "        return right_tree_height + 1\n",
    "    \n",
    "height_tree = height(root)\n",
    "print(\"**********************\")\n",
    "print(\"Height of the tree:\", height_tree)"
   ]
  },
  {
   "cell_type": "markdown",
   "metadata": {},
   "source": [
    "### Width - Using Preorder "
   ]
  },
  {
   "cell_type": "code",
   "execution_count": 11,
   "metadata": {},
   "outputs": [
    {
     "name": "stdout",
     "output_type": "stream",
     "text": [
      "******************\n",
      "Width List: [1, 2, 3, 1]\n",
      "Width: 3\n"
     ]
    }
   ],
   "source": [
    "def width(node, countList, level):\n",
    "    \n",
    "    if node is None:\n",
    "        return 0\n",
    "    # Visit\n",
    "    countList[level] += 1  \n",
    "    # Go Left\n",
    "    width(node.left, countList, level+1)    \n",
    "    # Go Right\n",
    "    width(node.right, countList, level+1)\n",
    "    \n",
    "    \n",
    "height_tmp = height(root)\n",
    "countList = x = [0 for i in range(height_tmp + 1)]\n",
    "\n",
    "width(root, countList, 0)\n",
    "\n",
    "print(\"******************\")\n",
    "print(\"Width List:\", countList)\n",
    "print(\"Width:\", max(countList))\n",
    "    "
   ]
  },
  {
   "cell_type": "markdown",
   "metadata": {},
   "source": [
    "### Build binary search tree from sorted array\n",
    "\n",
    "[Call Graph] (https://onedrive.live.com/view.aspx?resid=B01ABB6AB0A664D1%21166348&id=documents&wd=target%28Binary%20Tree.one%7C1A368AA0-DA55-49AA-BDCD-ED17EDA56AA2%2FExample%20Stack%7CB1633690-B255-4BCD-B6F8-3D8633C8B0B3%2F%29\n",
    "onenote:https://d.docs.live.net/b01abb6ab0a664d1/Documents2/Algorithms/Binary%20Tree.one#Example%20Stack&section-id={1A368AA0-DA55-49AA-BDCD-ED17EDA56AA2}&page-id={B1633690-B255-4BCD-B6F8-3D8633C8B0B3}&end)\n"
   ]
  },
  {
   "cell_type": "code",
   "execution_count": 26,
   "metadata": {
    "scrolled": true
   },
   "outputs": [
    {
     "name": "stdout",
     "output_type": "stream",
     "text": [
      "[1, 2, 3, 4, 5, 6, 7]\n",
      "\n",
      "    __4__\n",
      "   /     \\\n",
      "  2       6\n",
      " / \\     / \\\n",
      "1   3   5   7\n",
      "\n"
     ]
    }
   ],
   "source": [
    "def binarySearchTreeFromSortedArray(arr, lower, upper):\n",
    "    \n",
    "    # > is important. leaf level will have lower and upper same value\n",
    "    if lower > upper:\n",
    "        return None\n",
    "    \n",
    "    \n",
    "    mid = (lower + upper)//2\n",
    "    \n",
    "    left = binarySearchTreeFromSortedArray(arr, lower, mid - 1)    \n",
    "    right = binarySearchTreeFromSortedArray(arr, mid + 1, upper)\n",
    "    \n",
    "    parent = Node(arr[mid])\n",
    "    \n",
    "    parent.left = left\n",
    "    parent.right = right\n",
    "    \n",
    "    return parent\n",
    "    \n",
    "node_values = [i for i in root.values if i is not None]\n",
    "node_values.sort()\n",
    "print(node_values)\n",
    "\n",
    "binary_search_tree_root = binarySearchTreeFromSortedArray(node_values, 0, len(node_values)-1)\n",
    "\n",
    "print(binary_search_tree_root)"
   ]
  },
  {
   "cell_type": "markdown",
   "metadata": {},
   "source": [
    "### Least Common Ancestor"
   ]
  },
  {
   "cell_type": "code",
   "execution_count": 14,
   "metadata": {},
   "outputs": [
    {
     "name": "stdout",
     "output_type": "stream",
     "text": [
      "4\n",
      "right\n",
      "None\n",
      "right\n",
      "6\n",
      "left\n",
      "2\n"
     ]
    }
   ],
   "source": [
    "def lca(node, n1, n2):\n",
    "    \n",
    "    iterator = node\n",
    "    \n",
    "    while (iterator is not None):\n",
    "        data = iterator.value               \n",
    "                \n",
    "        if data >= n1 and data <= n2:\n",
    "            return data\n",
    "        \n",
    "        iterator = None\n",
    "        \n",
    "        if data > n1 and data > n2:\n",
    "            print(\"left\")\n",
    "            iterator = node.left\n",
    "            \n",
    "        if data < n1 and data < n2:\n",
    "            print(\"right\")\n",
    "            iterator = node.right\n",
    "        \n",
    "    return None\n",
    "\n",
    "r = lca(binary_search_tree_root, 1, 5)\n",
    "print(r)\n",
    "r = lca(binary_search_tree_root, 10, 5)\n",
    "print(r)\n",
    "r = lca(binary_search_tree_root, 5, 8)\n",
    "print(r)\n",
    "r = lca(binary_search_tree_root, 1, 3)\n",
    "print(r)"
   ]
  },
  {
   "cell_type": "markdown",
   "metadata": {},
   "source": [
    "### Is Binary Tree a Binary Search Tree or not\n",
    "\n",
    "#### Look at the result window for details on the algorith\n",
    "\n",
    "1. Base Condition\n",
    "2. Validate\n",
    "3. LST Result = Go Left\n",
    "4. RST Result = Go Right\n",
    "5. Validate LST Result and RST Result at Parent Level and Return Result\n",
    "\n",
    "* LST values need to be between -Inf and Parent or Parent and Grand Parent\n",
    "* RST values need to be between Parent and +Inf or Grand Parent and Parent\n"
   ]
  },
  {
   "cell_type": "code",
   "execution_count": 44,
   "metadata": {},
   "outputs": [
    {
     "name": "stdout",
     "output_type": "stream",
     "text": [
      "\n",
      "    __4__\n",
      "   /     \\\n",
      "  2       6\n",
      " / \\     / \\\n",
      "1   3   5   7\n",
      "\n",
      "Data:4 min:-9223372036854775808 max:9223372036854775807 CalledFrom:O\n",
      "\tData:2 min:-9223372036854775808 max:4 CalledFrom:L-4\n",
      "\t\tData:1 min:-9223372036854775808 max:2 CalledFrom:L-2\n",
      "\t\t\tNode is None min:-9223372036854775808 max:1 CalledFrom:L-1\n",
      "\t\t\tNode is None min:1 max:2 CalledFrom:R-1\n",
      "\t\tChecking LST and RST from the parent:1 CalledFrom:L-2\n",
      "\t\tResult True\n",
      "\t\tData:3 min:2 max:4 CalledFrom:R-2\n",
      "\t\t\tNode is None min:2 max:3 CalledFrom:L-3\n",
      "\t\t\tNode is None min:3 max:4 CalledFrom:R-3\n",
      "\t\tChecking LST and RST from the parent:3 CalledFrom:R-2\n",
      "\t\tResult True\n",
      "\tChecking LST and RST from the parent:2 CalledFrom:L-4\n",
      "\tResult True\n",
      "\tData:6 min:4 max:9223372036854775807 CalledFrom:R-4\n",
      "\t\tData:5 min:4 max:6 CalledFrom:L-6\n",
      "\t\t\tNode is None min:4 max:5 CalledFrom:L-5\n",
      "\t\t\tNode is None min:5 max:6 CalledFrom:R-5\n",
      "\t\tChecking LST and RST from the parent:5 CalledFrom:L-6\n",
      "\t\tResult True\n",
      "\t\tData:7 min:6 max:9223372036854775807 CalledFrom:R-6\n",
      "\t\t\tNode is None min:6 max:7 CalledFrom:L-7\n",
      "\t\t\tNode is None min:7 max:9223372036854775807 CalledFrom:R-7\n",
      "\t\tChecking LST and RST from the parent:7 CalledFrom:R-6\n",
      "\t\tResult True\n",
      "\tChecking LST and RST from the parent:6 CalledFrom:R-4\n",
      "\tResult True\n",
      "Checking LST and RST from the parent:4 CalledFrom:O\n",
      "Result True\n",
      "\n",
      "    3____\n",
      "   /     \\\n",
      "  5       2\n",
      " /       / \\\n",
      "1       4   6\n",
      "       /\n",
      "      7\n",
      "\n",
      "Data:3 min:-9223372036854775808 max:9223372036854775807 CalledFrom:O\n",
      "\tData:5 min:-9223372036854775808 max:3 CalledFrom:L-3\n",
      "\tData:2 min:3 max:9223372036854775807 CalledFrom:R-3\n",
      "Checking LST and RST from the parent:3 CalledFrom:O\n",
      "Result False\n"
     ]
    },
    {
     "data": {
      "text/plain": [
       "False"
      ]
     },
     "execution_count": 44,
     "metadata": {},
     "output_type": "execute_result"
    }
   ],
   "source": [
    "import sys\n",
    "\n",
    "def IsBST(node, min, max, level, calledFrom):\n",
    "    \n",
    "    if node is None:\n",
    "        print(('\\t' * (level)) + \"Node is None min:{0} max:{1} CalledFrom:{2}\".format(min, max, calledFrom))\n",
    "        return True\n",
    "    \n",
    "    print(('\\t' * (level)) + \"Data:{0} min:{1} max:{2} CalledFrom:{3}\".format(node.value, min, max, calledFrom))\n",
    "    if not (node.value > min and node.value < max):\n",
    "        return False\n",
    "    \n",
    "    leftBST = IsBST(node.left, min, node.value, level + 1, \"L-\"+str(node.value) )\n",
    "       \n",
    "    rightBST = IsBST(node.right, node.value, max, level + 1, \"R-\"+str(node.value))\n",
    "    \n",
    "    print(('\\t' * (level)) +\"Checking LST and RST from the parent:{0} CalledFrom:{1}\".format(node.value, calledFrom))\n",
    "    result = leftBST or rightBST\n",
    "    print(('\\t' * (level)) + \"Result\", result)\n",
    "    return result\n",
    "    \n",
    "max_int = sys.maxsize\n",
    "min_int = -sys.maxsize - 1\n",
    "\n",
    "print(binary_search_tree_root)\n",
    "IsBST(binary_search_tree_root, min_int, max_int, 0, \"O\")\n",
    "\n",
    "print(root)\n",
    "IsBST(root, min_int, max_int, 0, \"O\")\n",
    "    "
   ]
  },
  {
   "cell_type": "markdown",
   "metadata": {},
   "source": [
    "### Convert Tree to DoublyLinkedList - Store the double linked list in ascendening order - so use inorder\n",
    "\n",
    "1. Save the predessor as we explore the nodes\n",
    "2. When we visit a node, connect the node with predessor\n",
    "    * prev.right = node\n",
    "    * node.left = prev"
   ]
  },
  {
   "cell_type": "code",
   "execution_count": 24,
   "metadata": {},
   "outputs": [
    {
     "name": "stdout",
     "output_type": "stream",
     "text": [
      "\n",
      "      ______10_________\n",
      "     /                 \\\n",
      "    5__             ____20___\n",
      "   /   \\           /         \\\n",
      "  4     7        _13         _25\n",
      " /     / \\      /   \\       /   \\\n",
      "3     6   8    11    14    23    27\n",
      "\n",
      "None\n",
      "Node: 3\n",
      "Node: 4 Prev: 3\n",
      "Node: 5 Prev: 4\n",
      "Node: 6 Prev: 5\n",
      "Node: 7 Prev: 6\n",
      "Node: 8 Prev: 7\n",
      "Node: 10 Prev: 8\n",
      "Node: 11 Prev: 10\n",
      "Node: 13 Prev: 11\n",
      "Node: 14 Prev: 13\n",
      "Node: 20 Prev: 14\n",
      "Node: 23 Prev: 20\n",
      "Node: 25 Prev: 23\n",
      "Node: 27 Prev: 25\n",
      "4\n"
     ]
    }
   ],
   "source": [
    "class TreeToLinkedList():\n",
    "    def __init__(self):\n",
    "        self.head = None\n",
    "        self.prev = None        \n",
    "\n",
    "    def convertTreeToLinkedList(self, node):\n",
    "\n",
    "        if node is None:\n",
    "            return None\n",
    "\n",
    "        self.convertTreeToLinkedList(node.left)\n",
    "        \n",
    "        if node != None:\n",
    "            print(\"Node:\",node.value, end='')\n",
    "        if self.prev != None:\n",
    "            print(\" Prev:\",self.prev.value, end='')\n",
    "        print()\n",
    "        \n",
    "        if self.head is None:\n",
    "            self.head = node\n",
    "        else:\n",
    "            node.left = self.prev\n",
    "            self.prev.right = node\n",
    "\n",
    "        self.prev = node\n",
    "\n",
    "        self.convertTreeToLinkedList(node.right)\n",
    "\n",
    "        return \n",
    "\n",
    "convert_linked_list_nodes = [10, 5, 20, 4, 7, 13, 25, 3, None, 6, 8, 11, 14, 23, 27]\n",
    "convert_linked_list_root = build(convert_linked_list_nodes)\n",
    "print(convert_linked_list_root)\n",
    "\n",
    "treeToLL = TreeToLinkedList()\n",
    "print(treeToLL.head)\n",
    "treeToLL.convertTreeToLinkedList(convert_linked_list_root)\n",
    "\n",
    "print(treeToLL.head.right.value)"
   ]
  },
  {
   "cell_type": "code",
   "execution_count": null,
   "metadata": {},
   "outputs": [],
   "source": []
  }
 ],
 "metadata": {
  "kernelspec": {
   "display_name": "Python (pygameenv2)",
   "language": "python",
   "name": "pygameenv2"
  }
 },
 "nbformat": 4,
 "nbformat_minor": 4
}
