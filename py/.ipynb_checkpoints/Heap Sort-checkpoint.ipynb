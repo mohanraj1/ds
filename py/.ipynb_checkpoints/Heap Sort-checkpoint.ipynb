{
 "cells": [
  {
   "cell_type": "code",
   "execution_count": 17,
   "metadata": {},
   "outputs": [],
   "source": [
    "from binarytree import tree\n",
    "from binarytree import build\n",
    "from binarytree import Node"
   ]
  },
  {
   "cell_type": "code",
   "execution_count": 20,
   "metadata": {},
   "outputs": [],
   "source": [
    "values = [3, 5, 2, 1, None, 4, 6, None, None, None, None, 7]"
   ]
  },
  {
   "cell_type": "code",
   "execution_count": 21,
   "metadata": {},
   "outputs": [
    {
     "name": "stdout",
     "output_type": "stream",
     "text": [
      "\n",
      "    3____\n",
      "   /     \\\n",
      "  5       2\n",
      " /       / \\\n",
      "1       4   6\n",
      "       /\n",
      "      7\n",
      "\n"
     ]
    }
   ],
   "source": [
    "root = build(values)\n",
    "print(root)"
   ]
  },
  {
   "cell_type": "markdown",
   "metadata": {},
   "source": [
    "### Create a tree"
   ]
  },
  {
   "cell_type": "code",
   "execution_count": 24,
   "metadata": {},
   "outputs": [
    {
     "name": "stdout",
     "output_type": "stream",
     "text": [
      "\n",
      "    3____\n",
      "   /     \\\n",
      "  5       2\n",
      " /       / \\\n",
      "1       4   6\n",
      "       /\n",
      "      7\n",
      "\n"
     ]
    }
   ],
   "source": [
    "root = Node(3)\n",
    "root.left = Node(5)\n",
    "root.right = Node(2)\n",
    "root.left.left = Node(1)\n",
    "root.right.left = Node(4)\n",
    "root.right.right = Node(6)\n",
    "root.right.left.left = Node(7)\n",
    "print(root)"
   ]
  },
  {
   "cell_type": "code",
   "execution_count": 19,
   "metadata": {},
   "outputs": [
    {
     "data": {
      "text/plain": [
       "[3, 5, 2, 1, None, 4, 6, None, None, None, None, 7]"
      ]
     },
     "execution_count": 19,
     "metadata": {},
     "output_type": "execute_result"
    }
   ],
   "source": [
    "root.values"
   ]
  },
  {
   "cell_type": "code",
   "execution_count": 29,
   "metadata": {},
   "outputs": [],
   "source": [
    "def count(node):\n",
    "    if (node == None):\n",
    "        return 0\n",
    "    \n",
    "    lc = count(node.left)\n",
    "    \n",
    "    rc = count(node.right)\n",
    "    \n",
    "    return lc + rc + 1\n",
    "    "
   ]
  },
  {
   "cell_type": "code",
   "execution_count": 30,
   "metadata": {},
   "outputs": [
    {
     "name": "stdout",
     "output_type": "stream",
     "text": [
      "7\n"
     ]
    }
   ],
   "source": [
    "print(count(root))"
   ]
  },
  {
   "cell_type": "code",
   "execution_count": 81,
   "metadata": {},
   "outputs": [],
   "source": [
    "def countLeftNodes(node, tabs):\n",
    "    if (node == None):\n",
    "        print(('\\t' * (tabs)) + \"Hit Base Case Returning 0\")\n",
    "        return 0\n",
    "\n",
    "    print(('\\t' * (tabs)) + \"Working on:{0}\".format(node.value))\n",
    "\n",
    "    lc = 0\n",
    "    if (node.left != None):\n",
    "        print(('\\t' * (tabs)) + \"Going left:{0}\".format(node.value))\n",
    "        lc = countLeftNodes(node.left, tabs + 1) + 1\n",
    "        print(('\\t' * (tabs)) + \"Done Left:{0}:Result:{1}\".format(node.value, lc))\n",
    "    else:\n",
    "        print(('\\t' * (tabs)) + \"No left node found:{0}\".format(node.value))\n",
    "     \n",
    "    \n",
    "    print(('\\t' * (tabs)) + \"Going right:{0}\".format(node.value, tabs + 1))\n",
    "    rc = countLeftNodes(node.right, tabs+ 1)\n",
    "    print(('\\t' * (tabs)) + \"Done Right:{0}:Result:{1}\".format(node.value, rc))\n",
    "    \n",
    "    return lc + rc\n",
    "        "
   ]
  },
  {
   "cell_type": "code",
   "execution_count": 82,
   "metadata": {},
   "outputs": [
    {
     "name": "stdout",
     "output_type": "stream",
     "text": [
      "Working on:3\n",
      "Going left:3\n",
      "\tWorking on:5\n",
      "\tGoing left:5\n",
      "\t\tWorking on:1\n",
      "\t\tNo left node found:1\n",
      "\t\tGoing right:1\n",
      "\t\t\tHit Base Case Returning 0\n",
      "\t\tDone Right:1:Result:0\n",
      "\tDone Left:5:Result:1\n",
      "\tGoing right:5\n",
      "\t\tHit Base Case Returning 0\n",
      "\tDone Right:5:Result:0\n",
      "Done Left:3:Result:2\n",
      "Going right:3\n",
      "\tWorking on:2\n",
      "\tGoing left:2\n",
      "\t\tWorking on:4\n",
      "\t\tGoing left:4\n",
      "\t\t\tWorking on:7\n",
      "\t\t\tNo left node found:7\n",
      "\t\t\tGoing right:7\n",
      "\t\t\t\tHit Base Case Returning 0\n",
      "\t\t\tDone Right:7:Result:0\n",
      "\t\tDone Left:4:Result:1\n",
      "\t\tGoing right:4\n",
      "\t\t\tHit Base Case Returning 0\n",
      "\t\tDone Right:4:Result:0\n",
      "\tDone Left:2:Result:2\n",
      "\tGoing right:2\n",
      "\t\tWorking on:6\n",
      "\t\tNo left node found:6\n",
      "\t\tGoing right:6\n",
      "\t\t\tHit Base Case Returning 0\n",
      "\t\tDone Right:6:Result:0\n",
      "\tDone Right:2:Result:0\n",
      "Done Right:3:Result:2\n"
     ]
    },
    {
     "data": {
      "text/plain": [
       "4"
      ]
     },
     "execution_count": 82,
     "metadata": {},
     "output_type": "execute_result"
    }
   ],
   "source": [
    "countLeftNodes(root, 0)"
   ]
  },
  {
   "cell_type": "code",
   "execution_count": null,
   "metadata": {},
   "outputs": [],
   "source": []
  },
  {
   "cell_type": "code",
   "execution_count": null,
   "metadata": {},
   "outputs": [],
   "source": []
  }
 ],
 "metadata": {
  "kernelspec": {
   "display_name": "Python (pygameenv2)",
   "language": "python",
   "name": "pygameenv2"
  },
  "language_info": {
   "codemirror_mode": {
    "name": "ipython",
    "version": 3
   },
   "file_extension": ".py",
   "mimetype": "text/x-python",
   "name": "python",
   "nbconvert_exporter": "python",
   "pygments_lexer": "ipython3",
   "version": "3.6.10"
  }
 },
 "nbformat": 4,
 "nbformat_minor": 4
}
