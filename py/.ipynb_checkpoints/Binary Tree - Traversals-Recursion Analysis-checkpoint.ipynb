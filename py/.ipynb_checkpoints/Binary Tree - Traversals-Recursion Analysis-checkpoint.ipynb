{
 "cells": [
  {
   "cell_type": "code",
   "execution_count": 2,
   "metadata": {
    "scrolled": true
   },
   "outputs": [],
   "source": [
    "from binarytree import tree\n",
    "from binarytree import build\n",
    "from binarytree import Node\n",
    "from binarytree import bst"
   ]
  },
  {
   "cell_type": "code",
   "execution_count": 3,
   "metadata": {},
   "outputs": [
    {
     "name": "stdout",
     "output_type": "stream",
     "text": [
      "\n",
      "      ____10______\n",
      "     /            \\\n",
      "    5             _13\n",
      "   / \\           /   \\\n",
      "  4   6        _12    14\n",
      " /     \\      /\n",
      "3       7    11\n",
      "\n"
     ]
    }
   ],
   "source": [
    "node_values = [10, 5, 13, 4, 6, 12, 14, 3, None, None, 7, 11]\n",
    "bst_root = build(node_values)\n",
    "print(bst_root)"
   ]
  },
  {
   "cell_type": "markdown",
   "metadata": {},
   "source": [
    "https://www.geeksforgeeks.org/tree-traversals-inorder-preorder-and-postorder/"
   ]
  },
  {
   "cell_type": "markdown",
   "metadata": {},
   "source": [
    "### Preorder\n",
    "1. Preorder traversal is used to create a copy of the tree. \n",
    "2. Preorder traversal is also used to get prefix expression on of an expression tree. \n",
    "3. Please see http://en.wikipedia.org/wiki/Polish_notation to know why prefix expressions are useful."
   ]
  },
  {
   "cell_type": "code",
   "execution_count": 13,
   "metadata": {},
   "outputs": [
    {
     "name": "stdout",
     "output_type": "stream",
     "text": [
      "10\n",
      "\t5\n",
      "\t\t4\n",
      "\t\t\t3\n",
      "\t\t6\n",
      "\t\t\t7\n",
      "\t13\n",
      "\t\t12\n",
      "\t\t\t11\n",
      "\t\t14\n"
     ]
    }
   ],
   "source": [
    "def preorder(node, level):\n",
    "    \n",
    "    if node is None:\n",
    "        return\n",
    "    \n",
    "    print(('\\t' * (level)) + str(node.value))\n",
    "    preorder(node.left, level+1)    \n",
    "    preorder(node.right, level+1)\n",
    "    \n",
    "preorder(bst_root, 0)"
   ]
  },
  {
   "cell_type": "markdown",
   "metadata": {},
   "source": [
    "### Inorder\n",
    "1. Inorder traversal gives nodes in non-decreasing order. \n",
    "2. To get nodes of BST in asceding order\n",
    "3. A variation of Inorder traversal where Inorder traversal s reversed can be used."
   ]
  },
  {
   "cell_type": "code",
   "execution_count": 14,
   "metadata": {},
   "outputs": [
    {
     "name": "stdout",
     "output_type": "stream",
     "text": [
      "\t\t\t3\n",
      "\t\t4\n",
      "\t5\n",
      "\t\t6\n",
      "\t\t\t7\n",
      "10\n",
      "\t\t\t11\n",
      "\t\t12\n",
      "\t13\n",
      "\t\t14\n"
     ]
    }
   ],
   "source": [
    "def inorder(node, level):\n",
    "    \n",
    "    if node is None:\n",
    "        return\n",
    "    \n",
    "    inorder(node.left, level+1)    \n",
    "    print(('\\t' * (level)) + str(node.value))\n",
    "    inorder(node.right, level+1)\n",
    "    \n",
    "print(bst_root)\n",
    "inorder(bst_root, 0)"
   ]
  },
  {
   "cell_type": "markdown",
   "metadata": {},
   "source": [
    "### Postorder\n",
    "1. Postorder traversal is used to delete the tree. \n",
    "2. Please see the question for deletion of tree for details. \n",
    "3. Postorder traversal is also useful to get the postfix expression of an expression tree. Please see http://en.wikipedia.org/wiki/Reverse_Polish_notation to for the usage of postfix expression."
   ]
  },
  {
   "cell_type": "code",
   "execution_count": 17,
   "metadata": {},
   "outputs": [
    {
     "name": "stdout",
     "output_type": "stream",
     "text": [
      "\n",
      "      ____10______\n",
      "     /            \\\n",
      "    5             _13\n",
      "   / \\           /   \\\n",
      "  4   6        _12    14\n",
      " /     \\      /\n",
      "3       7    11\n",
      "\n",
      "\t\t\t3\n",
      "\t\t4\n",
      "\t\t\t7\n",
      "\t\t6\n",
      "\t5\n",
      "\t\t\t11\n",
      "\t\t12\n",
      "\t\t14\n",
      "\t13\n",
      "10\n"
     ]
    }
   ],
   "source": [
    "def postorder(node, level):\n",
    "    \n",
    "    if node is None:\n",
    "        return\n",
    "    \n",
    "    postorder(node.left, level+1)    \n",
    "    postorder(node.right, level+1)\n",
    "    print(('\\t' * (level)) + str(node.value))\n",
    "\n",
    "print(bst_root)\n",
    "postorder(bst_root, 0)"
   ]
  },
  {
   "cell_type": "code",
   "execution_count": null,
   "metadata": {},
   "outputs": [],
   "source": []
  },
  {
   "cell_type": "code",
   "execution_count": 19,
   "metadata": {},
   "outputs": [
    {
     "name": "stdout",
     "output_type": "stream",
     "text": [
      "\n",
      "      ____10______\n",
      "     /            \\\n",
      "    5             _13\n",
      "   / \\           /   \\\n",
      "  4   6        _12    14\n",
      " /     \\      /\n",
      "3       7    11\n",
      "\n",
      "\n",
      "      ____10______\n",
      "     /            \\\n",
      "    5             _13\n",
      "   / \\           /   \\\n",
      "  4   6        _12    14\n",
      " /     \\      /\n",
      "3       7    11\n",
      "\n"
     ]
    }
   ],
   "source": [
    "node_values = [10, 5, 13, 4, 6, 12, 14, 3, None, None, 7, 11]\n",
    "bst_root1 = build(node_values)\n",
    "print(bst_root1)\n",
    "bst_root2 = build(node_values)\n",
    "print(bst_root2)"
   ]
  },
  {
   "cell_type": "code",
   "execution_count": 39,
   "metadata": {},
   "outputs": [
    {
     "name": "stdout",
     "output_type": "stream",
     "text": [
      "\n",
      "      ____10______\n",
      "     /            \\\n",
      "    6             _13\n",
      "   / \\           /   \\\n",
      "  4   7        _12    20\n",
      " /     \\      /\n",
      "3       8    11\n",
      "\n",
      "\n",
      "      ____10______\n",
      "     /            \\\n",
      "    5             _13\n",
      "   / \\           /   \\\n",
      "  4   7        _12    20\n",
      " /     \\      /\n",
      "3       8    11\n",
      "\n",
      "O:10:10\n",
      "R:\t13:13\n",
      "L:\t\t12:12\n",
      "L:\t\t\t11:11\n",
      "R:\t\t20:20\n",
      "False\n",
      "\n",
      "      ____10______\n",
      "     /            \\\n",
      "    5             _13\n",
      "   / \\           /   \\\n",
      "  4   7        _12    20\n",
      " /     \\      /\n",
      "3       8    11\n",
      "\n",
      "\n",
      "      ____10______\n",
      "     /            \\\n",
      "    5             _13\n",
      "   / \\           /   \\\n",
      "  4   7        _12    20\n",
      " /     \\      /\n",
      "3       8    11\n",
      "\n",
      "O:10:10\n",
      "L:\t5:5\n",
      "L:\t\t4:4\n",
      "L:\t\t\t3:3\n",
      "R:\t\t7:7\n",
      "R:\t\t\t8:8\n",
      "R:\t13:13\n",
      "L:\t\t12:12\n",
      "L:\t\t\t11:11\n",
      "R:\t\t20:20\n",
      "True\n"
     ]
    }
   ],
   "source": [
    "def isIdentical(node1, node2, level, calledFrom):\n",
    "    \n",
    "    if node1 is None and node2 is None:\n",
    "        return True\n",
    "    \n",
    "    if (node1 is None and node2 is not None) or (node1 is not None and node2 is None):\n",
    "        return False\n",
    "    \n",
    "    if node1.value != node2.value:\n",
    "        return False\n",
    "    \n",
    "    if node1 is not None and node2 is None:\n",
    "        return False\n",
    "    \n",
    "    print(calledFrom + ('\\t' * (level)) + str(node1.value) + \":\" + str(node2.value))\n",
    "    left = isIdentical(node1.left, node2.left, level+1, \"L:\")    \n",
    "    right = isIdentical(node1.right, node2.right, level+1, \"R:\")\n",
    "    \n",
    "    result = left and right\n",
    "    \n",
    "    return result\n",
    "\n",
    "node_values = [10, 6, 13, 4, 7, 12, 20, 3, None, None, 8, 11]\n",
    "bst_root1 = build(node_values)\n",
    "print(bst_root1)\n",
    "node_values = [10, 5, 13, 4, 7, 12, 20, 3, None, None, 8, 11]\n",
    "bst_root2 = build(node_values)\n",
    "print(bst_root2)\n",
    "\n",
    "print(isIdentical(bst_root1, bst_root2, 0, \"O:\"))\n",
    "\n",
    "bst_root1 = build(node_values)\n",
    "print(bst_root1)\n",
    "bst_root2 = build(node_values)\n",
    "print(bst_root2)\n",
    "print(isIdentical(bst_root1, bst_root2, 0, \"O:\"))"
   ]
  },
  {
   "cell_type": "code",
   "execution_count": null,
   "metadata": {},
   "outputs": [],
   "source": []
  }
 ],
 "metadata": {
  "kernelspec": {
   "display_name": "Python (pygameenv2)",
   "language": "python",
   "name": "pygameenv2"
  },
  "language_info": {
   "codemirror_mode": {
    "name": "ipython",
    "version": 3
   },
   "file_extension": ".py",
   "mimetype": "text/x-python",
   "name": "python",
   "nbconvert_exporter": "python",
   "pygments_lexer": "ipython3",
   "version": "3.6.10"
  }
 },
 "nbformat": 4,
 "nbformat_minor": 4
}
